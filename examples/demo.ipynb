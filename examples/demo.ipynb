{
 "cells": [
  {
   "cell_type": "code",
   "execution_count": null,
   "metadata": {},
   "outputs": [],
   "source": [
    "# Import main SDK\n",
    "from mantis_sdk.client import MantisClient, SpacePrivacy, DataType, ReducerModels\n",
    "from mantis_sdk.render_args import RenderArgs\n",
    "\n",
    "import nest_asyncio\n",
    "import asyncio\n",
    "import pandas as pd\n",
    "nest_asyncio.apply()"
   ]
  },
  {
   "cell_type": "code",
   "execution_count": null,
   "metadata": {},
   "outputs": [],
   "source": [
    "import json\n",
    "\n",
    "def pretty_print (obj):\n",
    "    print(json.dumps(obj, indent=2))"
   ]
  },
  {
   "cell_type": "markdown",
   "metadata": {},
   "source": [
    "**Get Spaces**"
   ]
  },
  {
   "cell_type": "code",
   "execution_count": null,
   "metadata": {},
   "outputs": [],
   "source": [
    "# Load Mantis Client\n",
    "mantis = MantisClient(\"/api/proxy/\", render_args=RenderArgs(viewport={\"width\": 1920, \"height\": 1080}))"
   ]
  },
  {
   "cell_type": "code",
   "execution_count": null,
   "metadata": {},
   "outputs": [],
   "source": [
    "pretty_print(mantis.get_spaces()[\"public\"][:5])"
   ]
  },
  {
   "cell_type": "markdown",
   "metadata": {},
   "source": [
    "**Create Space**"
   ]
  },
  {
   "cell_type": "code",
   "execution_count": null,
   "metadata": {},
   "outputs": [],
   "source": [
    "# Load Mantis\n",
    "mantis = MantisClient(\"/api/proxy/\")\n",
    "\n",
    "# Set data path + types\n",
    "data_path = \"./StockData.csv\"\n",
    "\n",
    "data_types = {\"Symbol\": DataType.Title,\n",
    "              \"Market Cap\": DataType.Numeric,\n",
    "              \"Description\": DataType.Semantic}\n",
    "\n",
    "# Create space\n",
    "new_space_id = mantis.create_space(\"Stock data,\", \n",
    "                                   data=data_path, \n",
    "                                   data_types=data_types,\n",
    "                                   reducer=ReducerModels.UMAP,\n",
    "                                   privacy_level=SpacePrivacy.PRIVATE)[\"space_id\"]\n",
    "\n",
    "new_space_id"
   ]
  },
  {
   "cell_type": "code",
   "execution_count": null,
   "metadata": {},
   "outputs": [],
   "source": [
    "# Alternative you can create dataframes\n",
    "mantis = MantisClient(\"/api/proxy/\")\n",
    "\n",
    "# Create DF\n",
    "df = pd.DataFrame({\n",
    "    \"Symbol\": [\"AAPL\", \"GOOGL\", \"MSFT\", \"AMZN\", \"FB\"],\n",
    "    \"Market Cap\": [2000, 1500, 1300, 1200, 800],\n",
    "    \"Description\": [\"Apple Inc.\", \"Alphabet Inc.\", \"Microsoft Corporation\", \"Amazon.com Inc.\", \"Facebook Inc.\"]\n",
    "})\n",
    "\n",
    "# Set types\n",
    "data_types = {\"Symbol\": DataType.Title,\n",
    "              \"Market Cap\": DataType.Numeric,\n",
    "              \"Description\": DataType.Semantic}\n",
    "\n",
    "# Make space\n",
    "new_space_id = mantis.create_space(\"Stock data\", \n",
    "                                   data=df, \n",
    "                                   data_types=data_types,\n",
    "                                   reducer=ReducerModels.UMAP,\n",
    "                                   privacy_level=SpacePrivacy.Private)\n",
    "\n",
    "new_space_id"
   ]
  },
  {
   "cell_type": "markdown",
   "metadata": {},
   "source": [
    "**Load Space**"
   ]
  },
  {
   "cell_type": "code",
   "execution_count": null,
   "metadata": {},
   "outputs": [],
   "source": [
    "stock_data_space = await mantis.open_space (new_space_id)"
   ]
  },
  {
   "cell_type": "code",
   "execution_count": null,
   "metadata": {},
   "outputs": [],
   "source": [
    "import matplotlib.pyplot as plt\n",
    "from PIL import Image\n",
    "import io\n",
    "\n",
    "def imshow(plot):\n",
    "    # Convert bytes to image\n",
    "    image = Image.open(io.BytesIO(plot))\n",
    "    plt.imshow(image)\n",
    "    plt.axis('off')  # Remove axes and tickers\n",
    "    plt.show()"
   ]
  },
  {
   "cell_type": "code",
   "execution_count": null,
   "metadata": {},
   "outputs": [],
   "source": [
    "# Show a shot of the page\n",
    "imshow (await stock_data_space.capture ())"
   ]
  },
  {
   "cell_type": "code",
   "execution_count": null,
   "metadata": {},
   "outputs": [],
   "source": [
    "await stock_data_space.close_panel (\"reader\")\n",
    "await stock_data_space.close_panel (\"categories\")\n",
    "await stock_data_space.close_panel (\"analysis\")\n",
    "await stock_data_space.close_panel (\"orchestrator\")\n",
    "await stock_data_space.close_panel (\"bags\")\n",
    "await stock_data_space.close_panel (\"quicksheet\")\n",
    "await stock_data_space.close_panel (\"userlogs\")"
   ]
  },
  {
   "cell_type": "code",
   "execution_count": null,
   "metadata": {},
   "outputs": [],
   "source": [
    "# Show a shot of the page\n",
    "imshow (await stock_data_space.capture ())"
   ]
  },
  {
   "cell_type": "markdown",
   "metadata": {},
   "source": [
    "**Run Code**"
   ]
  },
  {
   "cell_type": "code",
   "execution_count": null,
   "metadata": {},
   "outputs": [],
   "source": [
    "code = \"\"\"\n",
    "\n",
    "computation = 6**4\n",
    "print ('Hello from SDK, :P -> ' + str(computation))\n",
    "\n",
    "\"\"\"\n",
    "\n",
    "\n",
    "await stock_data_space.run_code (code)"
   ]
  },
  {
   "cell_type": "code",
   "execution_count": null,
   "metadata": {},
   "outputs": [],
   "source": [
    "imshow (await stock_data_space.capture ())"
   ]
  },
  {
   "cell_type": "markdown",
   "metadata": {},
   "source": [
    "**Data Analysis**"
   ]
  },
  {
   "cell_type": "code",
   "execution_count": null,
   "metadata": {},
   "outputs": [],
   "source": [
    "# Select 100 points\n",
    "await stock_data_space.select_points (100)"
   ]
  },
  {
   "cell_type": "code",
   "execution_count": null,
   "metadata": {},
   "outputs": [],
   "source": [
    "# Plot embed dimensions\n",
    "plot = await stock_data_space.render_plot (\"embed_x\", \"embed_y\")\n",
    "\n",
    "imshow (plot)"
   ]
  },
  {
   "cell_type": "code",
   "execution_count": null,
   "metadata": {},
   "outputs": [],
   "source": [
    "# Plot Market Cap\n",
    "plot = await stock_data_space.render_plot (\"Market Cap\", \"embed_y\")\n",
    "\n",
    "imshow (plot)"
   ]
  },
  {
   "cell_type": "code",
   "execution_count": null,
   "metadata": {},
   "outputs": [],
   "source": [
    "await stock_data_space.close()"
   ]
  },
  {
   "cell_type": "markdown",
   "metadata": {},
   "source": [
    "Full Agent Run (not headless)"
   ]
  },
  {
   "cell_type": "code",
   "execution_count": null,
   "metadata": {},
   "outputs": [],
   "source": [
    "import nest_asyncio\n",
    "nest_asyncio.apply()\n",
    "\n",
    "async def open_lex_space():\n",
    "    mantis = MantisClient(\"/api/proxy/\", RenderArgs (headless=False))\n",
    "    \n",
    "    LEX_SPACE_ID = mantis.get_space_ids_by_name(\"Lex Clips\",\n",
    "                                               privacy_levels=[SpacePrivacy.PUBLIC])[0]\n",
    "    \n",
    "    # Open the space\n",
    "    lex_space = await mantis.open_space(LEX_SPACE_ID)\n",
    "    \n",
    "    await asyncio.sleep(5) # Let load further\n",
    "    \n",
    "    # Close panels\n",
    "    await lex_space.close_panel(\"reader\")\n",
    "    await lex_space.close_panel(\"categories\")\n",
    "    await lex_space.close_panel(\"analysis\")\n",
    "    await lex_space.close_panel(\"interpreter\")\n",
    "    await lex_space.close_panel(\"orchestrator\")\n",
    "    await lex_space.close_panel(\"bags\")\n",
    "    await lex_space.close_panel(\"quicksheet\")\n",
    "    await lex_space.close_panel(\"userlogs\")\n",
    "    \n",
    "    # Select points and plot\n",
    "    await lex_space.select_points(100)\n",
    "    \n",
    "    await asyncio.sleep(5) # Show the selected point\n",
    "    \n",
    "    plot = await lex_space.render_plot(\"likes\", \"views\")\n",
    "    \n",
    "    imshow (plot)\n",
    "    \n",
    "    await lex_space.close ()\n",
    "\n",
    "# Run with:\n",
    "lex_space = await open_lex_space()"
   ]
  },
  {
   "cell_type": "markdown",
   "metadata": {},
   "source": [
    "**Mass Production**"
   ]
  },
  {
   "cell_type": "code",
   "execution_count": null,
   "metadata": {},
   "outputs": [],
   "source": [
    "mantis = MantisClient(\"/api/proxy/\")"
   ]
  },
  {
   "cell_type": "code",
   "execution_count": null,
   "metadata": {},
   "outputs": [],
   "source": [
    "dtypes = {\"Name\": DataType.Title, \"Description\": DataType.Semantic, \"Impact Score\": DataType.Numeric}\n",
    "\n",
    "SAMPLES = [\n",
    "    # Data 1\n",
    "    (\"Historical Figures\", \n",
    "     \"./test_docs/figures.csv\", \n",
    "     dtypes),\n",
    "    \n",
    "    # Data 2\n",
    "    (\"Historical Events\", \n",
    "     \"./test_docs/historical.csv\", \n",
    "     dtypes),\n",
    "    \n",
    "    # Data 3\n",
    "    (\"Science\", \n",
    "     \"./test_docs/science.csv\", \n",
    "     dtypes),\n",
    "]\n",
    "\n",
    "# Foreach sample\n",
    "for space_name, data_path, data_types in SAMPLES:\n",
    "    # Create & load space\n",
    "    space_id = mantis.create_space (space_name,\n",
    "                                    data=data_path,\n",
    "                                    data_types=data_types)[\"space_id\"]\n",
    "    \n",
    "    space = await mantis.open_space (space_id)\n",
    "    \n",
    "    await asyncio.sleep (10) # Let load further\n",
    "    \n",
    "    # Do some misc analysis\n",
    "    await space.run_code (\"# Doing some analysis\")\n",
    "    \n",
    "    # Take a screenshot of the space\n",
    "    print (\"Space:\", space_name)\n",
    "    imshow (await space.capture ())"
   ]
  }
 ],
 "metadata": {
  "kernelspec": {
   "display_name": "venv",
   "language": "python",
   "name": "python3"
  },
  "language_info": {
   "codemirror_mode": {
    "name": "ipython",
    "version": 3
   },
   "file_extension": ".py",
   "mimetype": "text/x-python",
   "name": "python",
   "nbconvert_exporter": "python",
   "pygments_lexer": "ipython3",
   "version": "3.12.7"
  }
 },
 "nbformat": 4,
 "nbformat_minor": 2
}
